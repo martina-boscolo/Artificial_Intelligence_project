{
  "cells": [
    {
      "cell_type": "markdown",
      "source": [
        "#AI for time management: an application for students"
      ],
      "metadata": {
        "id": "c7_ivTAB0u0P"
      }
    },
    {
      "cell_type": "markdown",
      "metadata": {
        "id": "cH6_AqkJL8NN"
      },
      "source": [
        "##Notes for calculating study hours.\n",
        "One credit conventionally corresponds to 25 hours of commitment.\n",
        "6 CFU exam has 4 hours of weekly class, 9 CFU -> 6 hours.\n",
        "\n",
        "X CFU exam -> (X / 3) * 2 hours of weekly lecture time.\n",
        "\n",
        "In a semester there are 12 weeks of lectures on average.\n",
        "\n",
        "Hours to be covered per week = X * 25 / 12\n",
        "\n",
        "Hours of individual study per week = (X * 25 / 12) - (X / 3) * 2\n",
        "\n",
        "\n",
        "\n",
        "### Example with 6-credit exam:\n",
        "Total hours = 6 * 25 = 150\n",
        "\n",
        "Lecture hours per week = ( 6 / 3 ) * 2 = 4\n",
        "\n",
        "Hours to be covered per week = 6 * 25 / 12 = 12.5\n",
        "\n",
        "Hours of individual study per week = 12.5 - 4 = 8.5\n"
      ]
    },
    {
      "cell_type": "code",
      "execution_count": null,
      "metadata": {
        "colab": {
          "base_uri": "https://localhost:8080/"
        },
        "id": "75PGbl7JKtyF",
        "outputId": "a9818b38-603d-4df5-c838-4c2410450033"
      },
      "outputs": [
        {
          "output_type": "stream",
          "name": "stdout",
          "text": [
            "Collecting python-constraint\n",
            "  Downloading python-constraint-1.4.0.tar.bz2 (18 kB)\n",
            "  Preparing metadata (setup.py) ... \u001b[?25l\u001b[?25hdone\n",
            "Building wheels for collected packages: python-constraint\n",
            "  Building wheel for python-constraint (setup.py) ... \u001b[?25l\u001b[?25hdone\n",
            "  Created wheel for python-constraint: filename=python_constraint-1.4.0-py2.py3-none-any.whl size=24058 sha256=aae2f5663561bab9b2441e8f65a91131851717ef6b2eb51e5c5351d94b74bbe1\n",
            "  Stored in directory: /root/.cache/pip/wheels/2e/f2/2b/cb08b5fe129e4f69b7033061f256e5c551b0aa1160c2872aee\n",
            "Successfully built python-constraint\n",
            "Installing collected packages: python-constraint\n",
            "Successfully installed python-constraint-1.4.0\n"
          ]
        }
      ],
      "source": [
        "!pip install python-constraint"
      ]
    },
    {
      "cell_type": "code",
      "execution_count": null,
      "metadata": {
        "id": "SB_G3mcU4dKs"
      },
      "outputs": [],
      "source": [
        "# all the needed libraries\n",
        "from re import sub\n",
        "from constraint import *\n",
        "import random\n",
        "import math\n",
        "import matplotlib.pyplot as plt"
      ]
    },
    {
      "cell_type": "markdown",
      "metadata": {
        "id": "3VGXo-mD220Z"
      },
      "source": [
        "## Function that adds the constraint w.r.t personal commitments and lecture hours"
      ]
    },
    {
      "cell_type": "code",
      "execution_count": null,
      "metadata": {
        "id": "Sb1u7bXw_Vxe"
      },
      "outputs": [],
      "source": [
        "# Function that adds the constraint w.r.t personal commitments and lecture hours\n",
        "def addConstrDay(problem, commitments, lectures, max_hours):\n",
        "  remaining = []  # list of usable hours for individual study on each day of the week\n",
        "  # assuming 7 days of total time\n",
        "  for i in range(0, len(commitments)):\n",
        "    # during week-days consider both lectures and personal commitments\n",
        "    if i < 5:\n",
        "      remaining_hours = max(0 , max_hours - (lectures[i] + commitments[i]))\n",
        "      problem.addConstraint(MaxSumConstraint(remaining_hours), ['x_' + str(i)])\n",
        "      remaining.append(remaining_hours)\n",
        "    # during week-ends consider only personal commitments\n",
        "    else:\n",
        "      remaining_hours = max_hours - (commitments[i])\n",
        "      problem.addConstraint(MaxSumConstraint(remaining_hours), ['x_' + str(i)])\n",
        "      remaining.append(remaining_hours)\n",
        "  return remaining"
      ]
    },
    {
      "cell_type": "markdown",
      "metadata": {
        "id": "N6jVmnbX3Aja"
      },
      "source": [
        "## Functions used to create random data"
      ]
    },
    {
      "cell_type": "code",
      "execution_count": null,
      "metadata": {
        "id": "wPEbiEHV-KQ3"
      },
      "outputs": [],
      "source": [
        "# function that calculates the total hours a student needs to study individually\n",
        "def calcTotalHours(exams):\n",
        "  total = 0\n",
        "  for exam in exams:\n",
        "    CFU = exams[exam]\n",
        "    total += CFU * 25 / 12 - CFU * 2 / 3\n",
        "  return math.ceil(total)\n",
        "\n",
        "# function that creates a random list of occupied hours\n",
        "def createCommitments(days):\n",
        "  commitments = []\n",
        "  for i in range(days):\n",
        "    commitments.append(max(0 , math.floor(random.gauss(0, 2.0))))\n",
        "  return commitments\n",
        "\n",
        "# function that returns a random list of lectures distributed in 5 days\n",
        "def createLectures(exams):\n",
        "  lectures = [0] * 7\n",
        "  for exam in exams:\n",
        "    CFU = exams[exam]\n",
        "    days = random.sample(range(5), int(CFU/3))\n",
        "    for day in days:\n",
        "      lectures[day] += 2\n",
        "  return lectures\n"
      ]
    },
    {
      "cell_type": "markdown",
      "metadata": {
        "id": "tVEj07z22Ycb"
      },
      "source": [
        "## Example of a single week optimization"
      ]
    },
    {
      "cell_type": "code",
      "execution_count": null,
      "metadata": {
        "colab": {
          "base_uri": "https://localhost:8080/"
        },
        "id": "0MttvBtnK8eX",
        "outputId": "eaf3b824-bf94-410b-da51-e58935254060"
      },
      "outputs": [
        {
          "output_type": "stream",
          "name": "stdout",
          "text": [
            "individual weekly study hours: 30\n",
            "lectures: [0, 6, 6, 0, 2, 0, 0]\n",
            "commitments: [0, 0, 0, 1, 0, 0, 0]\n",
            "{'x_0': 7, 'x_1': 1, 'x_2': 1, 'x_3': 6, 'x_4': 5, 'x_5': 7, 'x_6': 3}\n"
          ]
        }
      ],
      "source": [
        "# amount of days on which the program optimizes\n",
        "days_scope = 7\n",
        "\n",
        "exams = {\"Artificial Intelligence\": 9 , \"Computer Vision\": 6 , \"Deep Learning\": 6}\n",
        "\n",
        "# calculate the total hours the student needs to study in the week\n",
        "individual_weekly_study_hours = calcTotalHours(exams)\n",
        "\n",
        "# create a weekly lecture planning based on the exams\n",
        "lectures = createLectures(exams)\n",
        "\n",
        "# create a calendar of random commitments\n",
        "commitments = createCommitments(days_scope)\n",
        "\n",
        "# creation of the csp\n",
        "problem = Problem()\n",
        "\n",
        "# creation of the variables\n",
        "domain_x_i = list(range(8))   # 7 possible working hours\n",
        "hours_per_day = 'x_'\n",
        "vars = []\n",
        "for i in range(days_scope):\n",
        "  x = hours_per_day + str(i)\n",
        "  problem.addVariable(x, domain_x_i)\n",
        "  vars.append(x)\n",
        "\n",
        "# creation of the constraints\n",
        "problem.addConstraint(ExactSumConstraint(individual_weekly_study_hours), vars)\n",
        "\n",
        "addConstrDay(problem, commitments, lectures, max(domain_x_i))\n",
        "\n",
        "# OUTPUT\n",
        "sol = problem.getSolution()\n",
        "print(\"individual weekly study hours: \" + str(individual_weekly_study_hours))\n",
        "print(\"lectures: \" + str(lectures))\n",
        "print(\"commitments: \" + str(commitments))\n",
        "if sol is not None:\n",
        "  print(dict(sorted(sol.items())))\n",
        "else:\n",
        "  print(\"Solution for the single week not found, too many personal commitments!\")\n",
        "\n",
        "\n"
      ]
    },
    {
      "cell_type": "markdown",
      "metadata": {
        "id": "4dZUrNaX1jRb"
      },
      "source": [
        "## Optimization over the full 12 weeks period"
      ]
    },
    {
      "cell_type": "code",
      "execution_count": null,
      "metadata": {
        "colab": {
          "base_uri": "https://localhost:8080/"
        },
        "id": "ORGVOrjptphm",
        "outputId": "5a4b3874-d41a-4903-855d-63f2c3d57cfe"
      },
      "outputs": [
        {
          "output_type": "stream",
          "name": "stdout",
          "text": [
            "Solution found:\n",
            "[[7, 7, 7, 4, 5, 0, 0], [6, 7, 6, 2, 5, 4, 0], [6, 4, 7, 5, 4, 4, 0], [7, 4, 7, 4, 5, 3, 0], [7, 7, 5, 5, 5, 1, 0], [7, 7, 7, 2, 4, 3, 0], [5, 7, 7, 5, 5, 1, 0], [6, 5, 5, 5, 3, 6, 0], [6, 7, 7, 5, 5, 0, 0], [7, 6, 7, 5, 5, 0, 0], [7, 7, 5, 5, 5, 1, 0], [7, 7, 5, 5, 5, 1, 0]]\n",
            "Lectures scheduled:\n",
            "[[2, 2, 2, 4, 4, 0, 0], [2, 2, 2, 4, 4, 0, 0], [2, 2, 2, 4, 4, 0, 0], [2, 2, 2, 4, 4, 0, 0], [2, 2, 2, 4, 4, 0, 0], [2, 2, 2, 4, 4, 0, 0], [2, 2, 2, 4, 4, 0, 0], [2, 2, 2, 4, 4, 0, 0], [2, 2, 2, 4, 4, 0, 0], [2, 2, 2, 4, 4, 0, 0], [2, 2, 2, 4, 4, 0, 0], [2, 2, 2, 4, 4, 0, 0]]\n",
            "Commitments generated:\n",
            "[[0, 0, 0, 1, 0, 0, 0], [1, 0, 1, 3, 0, 0, 0], [1, 3, 0, 0, 1, 0, 0], [0, 3, 0, 1, 0, 0, 0], [0, 0, 2, 0, 0, 0, 0], [0, 0, 0, 3, 1, 0, 1], [2, 0, 0, 0, 0, 1, 0], [0, 2, 2, 0, 2, 3, 0], [1, 0, 0, 0, 0, 1, 0], [0, 1, 0, 0, 0, 0, 1], [0, 0, 2, 0, 0, 0, 0], [0, 0, 2, 0, 0, 0, 0]]\n"
          ]
        }
      ],
      "source": [
        "# amount of days on which the program optimizes\n",
        "days_scope = 7\n",
        "\n",
        "exams = {\"Artificial Intelligence\": 9 , \"Computer Vision\": 6 , \"Deep Learning\": 6}\n",
        "\n",
        "# calculate the total hours the student needs to study in the week\n",
        "individual_weekly_study_hours = calcTotalHours(exams)\n",
        "\n",
        "# hours that in a week result exceed the possible study time because of personal commitments\n",
        "exceeding_hours = 0\n",
        "\n",
        "# list of weeks containing the solution\n",
        "solution = []\n",
        "\n",
        "commit = []\n",
        "\n",
        "lect = []\n",
        "\n",
        "# create a weekly lecture planning based on the exams\n",
        "lectures = createLectures(exams)\n",
        "\n",
        "for i in range(12):\n",
        "\n",
        "  lect.append(lectures)\n",
        "\n",
        "  # create a calendar of random commitments\n",
        "  commitments = createCommitments(days_scope)\n",
        "\n",
        "  commit.append(commitments)\n",
        "\n",
        "  # creation of the csp\n",
        "  problem = Problem()\n",
        "\n",
        "  # creation of the variables\n",
        "  domain_x_i = list(range(10))   # 9 possible working hours\n",
        "  hours_per_day = 'x_'\n",
        "  vars = []\n",
        "  for i in range(days_scope):\n",
        "    x = hours_per_day + str(i)\n",
        "    problem.addVariable(x, domain_x_i)\n",
        "    vars.append(x)\n",
        "\n",
        "  # creation of the constraints\n",
        "  problem.addConstraint(ExactSumConstraint(individual_weekly_study_hours + exceeding_hours), vars)\n",
        "\n",
        "  remaining_hours = addConstrDay(problem, commitments, lectures, 10)  #to get the standard model call addConstrDay(problem, commitments, lectures, max(domain_x_i)) instead\n",
        "\n",
        "  sol = problem.getSolution()\n",
        "\n",
        "  if sol is not None:\n",
        "    # append this week's solution and reset exceeding hours\n",
        "    ordered = dict(sorted(sol.items()))\n",
        "    solution.append(list(ordered.values()))\n",
        "    exceeding_hours = 0\n",
        "  else:\n",
        "    # too many personal commitments, study as many hours as you can and try to make up the missed hours the following week\n",
        "    solution.append(remaining_hours)\n",
        "    exceeding_hours = individual_weekly_study_hours - sum(remaining_hours)\n",
        "\n",
        "print(\"Solution found:\")\n",
        "print(solution)\n",
        "\n",
        "if exceeding_hours > 0:\n",
        "  print(\"Hours that remain to study before the exam: \" + str(exceeding_hours))\n",
        "\n",
        "print(\"Lectures scheduled:\")\n",
        "print(lect)\n",
        "print(\"Commitments generated:\")\n",
        "print(commit)"
      ]
    },
    {
      "cell_type": "markdown",
      "metadata": {
        "id": "bgCnfROaC8IT"
      },
      "source": [
        "## PLOT THE DATA"
      ]
    },
    {
      "cell_type": "code",
      "execution_count": null,
      "metadata": {
        "colab": {
          "base_uri": "https://localhost:8080/",
          "height": 492
        },
        "id": "V6YjLIo5C7r6",
        "outputId": "9c495f85-a39c-4ba4-a02d-c8351d83cb95"
      },
      "outputs": [
        {
          "output_type": "display_data",
          "data": {
            "text/plain": [
              "<Figure size 640x480 with 1 Axes>"
            ],
            "image/png": "[encoded data removed]"
          },
          "metadata": {}
        }
      ],
      "source": [
        "# Choose the week to plot\n",
        "i = 3\n",
        "\n",
        "categories = ['Mon', 'Tue', 'Wed', 'Thu', 'Fry', 'Sat', 'Sun']\n",
        "values1 = solution[i]  # Values for the individual study hours\n",
        "values2 = lect[i]  # Values for the lecture hours\n",
        "values3 = commit[i]  # Values for the commitments hours\n",
        "\n",
        "# Plotting the bars\n",
        "plt.bar(categories, values1, width=0.65, color='#4d79ff', label='Individual study hours')\n",
        "plt.bar(categories, values2, width=0.65, bottom=values1, color='#5cd65c', label='Lectures')\n",
        "plt.bar(categories, values3, width=0.65, bottom=[values1[j] + values2[j] for j in range(len(values1))], color='#ff4d4d', label='Personal commitments')\n",
        "\n",
        "# Adding labels and title\n",
        "plt.xlabel('Days', fontweight='bold')\n",
        "plt.ylabel('Hours', fontweight='bold')\n",
        "plt.title('Week')\n",
        "\n",
        "# Adding a legend\n",
        "plt.legend()\n",
        "\n",
        "\n",
        "# Showing the plot\n",
        "plt.show()\n",
        "\n"
      ]
    },
    {
      "cell_type": "code",
      "source": [
        "data = solution\n",
        "# Days of the week\n",
        "days = [\"Mon\", \"Tue\", \"Wed\", \"Thu\", \"Fri\", \"Sat\", \"Sun\"]\n",
        "\n",
        "# Set a fixed width for each column\n",
        "col_width = 5\n",
        "\n",
        "# Formatting the header\n",
        "header = \"| Week | \" + \" | \".join(f\"{day:^{col_width}}\" for day in days) + \" |\"\n",
        "separator = \"+\" + \"+\".join(\"-\" * (col_width + 2) for _ in range(len(days) + 1)) + \"+\"\n",
        "\n",
        "# Printing the header\n",
        "print(separator)\n",
        "print(header)\n",
        "print(separator)\n",
        "\n",
        "# Printing each week with its data\n",
        "for week_num, week_data in enumerate(data, start=1):\n",
        "    week_str = f\"| {week_num:4d} | \" + \" | \".join(f\"{day:^{col_width}}\" for day in week_data) + \" |\"\n",
        "    print(week_str)\n",
        "    print(separator)"
      ],
      "metadata": {
        "colab": {
          "base_uri": "https://localhost:8080/"
        },
        "id": "x2oW5WHPxP0S",
        "outputId": "726684c6-5798-4a7a-9b79-dd1122fcee41"
      },
      "execution_count": null,
      "outputs": [
        {
          "output_type": "stream",
          "name": "stdout",
          "text": [
            "+-------+-------+-------+-------+-------+-------+-------+-------+\n",
            "| Week |  Mon  |  Tue  |  Wed  |  Thu  |  Fri  |  Sat  |  Sun  |\n",
            "+-------+-------+-------+-------+-------+-------+-------+-------+\n",
            "|    1 |   3   |   3   |   0   |   0   |   3   |   5   |   5   |\n",
            "+-------+-------+-------+-------+-------+-------+-------+-------+\n",
            "|    2 |   2   |   3   |   0   |   0   |   3   |   3   |   5   |\n",
            "+-------+-------+-------+-------+-------+-------+-------+-------+\n",
            "|    3 |   3   |   3   |   1   |   0   |   3   |   4   |   3   |\n",
            "+-------+-------+-------+-------+-------+-------+-------+-------+\n",
            "|    4 |   3   |   3   |   1   |   0   |   3   |   2   |   4   |\n",
            "+-------+-------+-------+-------+-------+-------+-------+-------+\n",
            "|    5 |   5   |   3   |   1   |   0   |   3   |   5   |   5   |\n",
            "+-------+-------+-------+-------+-------+-------+-------+-------+\n",
            "|    6 |   5   |   3   |   0   |   0   |   2   |   4   |   5   |\n",
            "+-------+-------+-------+-------+-------+-------+-------+-------+\n",
            "|    7 |   5   |   3   |   0   |   0   |   3   |   5   |   5   |\n",
            "+-------+-------+-------+-------+-------+-------+-------+-------+\n",
            "|    8 |   1   |   2   |   0   |   0   |   3   |   3   |   5   |\n",
            "+-------+-------+-------+-------+-------+-------+-------+-------+\n",
            "|    9 |   5   |   3   |   1   |   0   |   3   |   4   |   5   |\n",
            "+-------+-------+-------+-------+-------+-------+-------+-------+\n",
            "|   10 |   4   |   3   |   1   |   0   |   0   |   5   |   5   |\n",
            "+-------+-------+-------+-------+-------+-------+-------+-------+\n",
            "|   11 |   5   |   3   |   0   |   0   |   3   |   5   |   5   |\n",
            "+-------+-------+-------+-------+-------+-------+-------+-------+\n",
            "|   12 |   2   |   3   |   1   |   0   |   3   |   1   |   5   |\n",
            "+-------+-------+-------+-------+-------+-------+-------+-------+\n"
          ]
        }
      ]
    }
  ],
  "metadata": {
    "colab": {
      "gpuType": "T4",
      "provenance": []
    },
    "kernelspec": {
      "display_name": "Python 3",
      "name": "python3"
    },
    "language_info": {
      "name": "python"
    }
  },
  "nbformat": 4,
  "nbformat_minor": 0
}